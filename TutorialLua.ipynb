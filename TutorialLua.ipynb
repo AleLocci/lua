{
 "cells": [
  {
   "cell_type": "code",
   "execution_count": 66,
   "id": "b5f014b5",
   "metadata": {},
   "outputs": [],
   "source": [
    "--Tutorial Lua 05/10/2022"
   ]
  },
  {
   "cell_type": "code",
   "execution_count": 67,
   "id": "54c334cd",
   "metadata": {},
   "outputs": [
    {
     "name": "stdout",
     "output_type": "stream",
     "text": [
      "Oi mundo!!\n"
     ]
    }
   ],
   "source": [
    "--imprimindo na tela\n",
    "print(\"Oi mundo!!\")"
   ]
  },
  {
   "cell_type": "code",
   "execution_count": 68,
   "id": "99f01f6e",
   "metadata": {},
   "outputs": [],
   "source": [
    "--Trecho: uma sequência de instruções. \n",
    "a=1\n",
    "a=2 b=3\n",
    "a=2; b=2*a\n",
    "a=3 b=3*b"
   ]
  },
  {
   "cell_type": "code",
   "execution_count": 69,
   "id": "87b02b41",
   "metadata": {},
   "outputs": [],
   "source": [
    "--Comentário e bloco de comentário\n",
    "--Isso é um comentário\n",
    "--[[Isso é um grande bloco de coemntaro\n",
    "mesmo\n",
    "]]"
   ]
  },
  {
   "cell_type": "code",
   "execution_count": 70,
   "id": "86900193",
   "metadata": {},
   "outputs": [
    {
     "name": "stdout",
     "output_type": "stream",
     "text": [
      "3\n",
      "10\n",
      "100\n",
      "nil\n"
     ]
    }
   ],
   "source": [
    "--Variáveis globais\n",
    "print(a)\n",
    "a=10--deveria dar nill\n",
    "print(a)\n",
    "a=100\n",
    "print(a)\n",
    "a=nil\n",
    "print(a)"
   ]
  },
  {
   "cell_type": "code",
   "execution_count": 71,
   "id": "4690bf7d",
   "metadata": {},
   "outputs": [],
   "source": [
    "--Tipagem e Valores\n",
    "--[[Lua é uma linguagem tipada dinamicamente,\n",
    "logo os tipos não são definidos. Isso implica \n",
    "que é o valor que define o tipo.]]\n",
    "--[[Um valor podem ser atribuidos os seguintes tipos:\n",
    "*nil\n",
    "*boolean\n",
    "*number\n",
    "*string\n",
    "*userdata\n",
    "*function\n",
    "*thread\n",
    "*table]]"
   ]
  },
  {
   "cell_type": "code",
   "execution_count": 72,
   "id": "9539e474",
   "metadata": {},
   "outputs": [
    {
     "name": "stdout",
     "output_type": "stream",
     "text": [
      "nil\n",
      "boolean\n",
      "number\n",
      "string\n",
      "function\n",
      "string\n",
      "function\n",
      "function\n"
     ]
    }
   ],
   "source": [
    "print(type(nil))\n",
    "print(type(true))\n",
    "print(type(10))\n",
    "print(type(\"Oi\"))\n",
    "print(type(print))\n",
    "print(type(k))--k não foi inicializada\n",
    "k=print\n",
    "print(type(k))\n",
    "k(type(k))"
   ]
  },
  {
   "cell_type": "code",
   "execution_count": 73,
   "id": "5979eb32",
   "metadata": {},
   "outputs": [],
   "source": [
    "--nil avaliado como false.\n",
    "--0 e string vazia são entendidas como true."
   ]
  },
  {
   "cell_type": "code",
   "execution_count": 74,
   "id": "776bc345",
   "metadata": {},
   "outputs": [
    {
     "name": "stdout",
     "output_type": "stream",
     "text": [
      "255\n"
     ]
    }
   ],
   "source": [
    "s=0xff--Hexa\n",
    "print(s)"
   ]
  },
  {
   "cell_type": "code",
   "execution_count": 75,
   "id": "403c71de",
   "metadata": {},
   "outputs": [
    {
     "name": "stdout",
     "output_type": "stream",
     "text": [
      "20.0\n",
      "4.0\n"
     ]
    },
    {
     "ename": "n/a",
     "evalue": "(ilua):4: attempt to perform arithmetic on a string value",
     "output_type": "error",
     "traceback": [
      "(ilua):4: attempt to perform arithmetic on a string value",
      "stack traceback:",
      "\t(ilua):4: in main chunk",
      "\t[C]: in function 'xpcall'",
      "\t...1701/.local/lib/python3.10/site-packages/ilua/interp.lua:65: in local 'handle_execute'",
      "\t...1701/.local/lib/python3.10/site-packages/ilua/interp.lua:162: in main chunk",
      "\t[C]: in ?"
     ]
    }
   ],
   "source": [
    "--Coerções para número\n",
    "print(\"10\" + 10)\n",
    "print(\"2\" * \"2\")\n",
    "print(\"oi\" + 1)"
   ]
  },
  {
   "cell_type": "code",
   "execution_count": 76,
   "id": "68503622",
   "metadata": {},
   "outputs": [
    {
     "name": "stdout",
     "output_type": "stream",
     "text": [
      "1010\n"
     ]
    }
   ],
   "source": [
    "--Coerções para string\n",
    "print(10 .. 10)"
   ]
  },
  {
   "cell_type": "code",
   "execution_count": 77,
   "id": "77a40023",
   "metadata": {},
   "outputs": [
    {
     "name": "stdout",
     "output_type": "stream",
     "text": [
      "number\n"
     ]
    }
   ],
   "source": [
    "--converção para número\n",
    "\n",
    "s = tonumber(\"10\")\n",
    "print(type(s))"
   ]
  },
  {
   "cell_type": "code",
   "execution_count": 78,
   "id": "c0bef98b",
   "metadata": {},
   "outputs": [
    {
     "name": "stdout",
     "output_type": "stream",
     "text": [
      "table\n"
     ]
    }
   ],
   "source": [
    "--[[Tabelas implementam arranjos associativos. Uma arranjo assosciativo permite que o indexe não seja feito apenas \n",
    "por números (no Lua o nil não pode ser indexe)]]--\n",
    "--Tabelas são objetos\n",
    "A = {} --tabela declarada\n",
    "print(type(A))\n"
   ]
  },
  {
   "cell_type": "code",
   "execution_count": 79,
   "id": "5b8928ba",
   "metadata": {},
   "outputs": [
    {
     "name": "stdout",
     "output_type": "stream",
     "text": [
      "100\n",
      "100\n",
      "100\n",
      "100\n",
      "-----\n",
      "nil\n",
      "100\n",
      "100\n"
     ]
    }
   ],
   "source": [
    "k=\"w\"\n",
    "A[k] = 100\n",
    "B=A\n",
    "print(A[\"w\"])\n",
    "print(A[k])\n",
    "print(B[\"w\"])\n",
    "print(B[k])\n",
    "A = nil\n",
    "print(\"-----\")\n",
    "print(type(A))\n",
    "print(B[\"w\"])\n",
    "print(B[k])"
   ]
  },
  {
   "cell_type": "code",
   "execution_count": 80,
   "id": "3a38088a",
   "metadata": {},
   "outputs": [
    {
     "name": "stdout",
     "output_type": "stream",
     "text": [
      "-10\n",
      "-8\n",
      "-6\n",
      "-4\n",
      "-2\n",
      "0\n",
      "2\n",
      "4\n",
      "6\n",
      "8\n",
      "10\n",
      "12\n",
      "14\n",
      "16\n",
      "18\n",
      "20\n",
      "-10\n",
      "-8\n",
      "-6\n",
      "-4\n",
      "-2\n",
      "0\n",
      "2\n",
      "4\n",
      "6\n",
      "8\n",
      "10\n",
      "12\n",
      "14\n",
      "16\n",
      "18\n",
      "20\n"
     ]
    }
   ],
   "source": [
    "C={}\n",
    "for i=-5, 10 do\n",
    "    C[i] = i*2\n",
    "end\n",
    "\n",
    "for i=-5, 10 do\n",
    "    print(C[i])\n",
    "end\n",
    "\n",
    "for i=-5, #C do\n",
    "    print(C[i])\n",
    "end\n",
    "    "
   ]
  },
  {
   "cell_type": "code",
   "execution_count": 81,
   "id": "4d6d5b2e",
   "metadata": {},
   "outputs": [
    {
     "name": "stdout",
     "output_type": "stream",
     "text": [
      "2\n"
     ]
    }
   ],
   "source": [
    "print(C[1])"
   ]
  },
  {
   "cell_type": "code",
   "execution_count": 83,
   "id": "2c877671",
   "metadata": {},
   "outputs": [
    {
     "data": {
      "text/plain": [
       "false"
      ]
     },
     "execution_count": 83,
     "metadata": {},
     "output_type": "execute_result"
    }
   ],
   "source": [
    "--Exercício\n",
    "type(nil)==nil\n",
    "\n"
   ]
  },
  {
   "cell_type": "code",
   "execution_count": 86,
   "id": "48bc1de2",
   "metadata": {},
   "outputs": [
    {
     "data": {
      "text/plain": [
       "true"
      ]
     },
     "execution_count": 86,
     "metadata": {},
     "output_type": "execute_result"
    }
   ],
   "source": [
    "127/10==12.7"
   ]
  },
  {
   "cell_type": "code",
   "execution_count": 87,
   "id": "b5406c69",
   "metadata": {},
   "outputs": [
    {
     "name": "stdout",
     "output_type": "stream",
     "text": [
      "12.7\n"
     ]
    }
   ],
   "source": [
    "print(127e-1)"
   ]
  },
  {
   "cell_type": "code",
   "execution_count": 101,
   "id": "8eebd9f8",
   "metadata": {},
   "outputs": [
    {
     "name": "stdout",
     "output_type": "stream",
     "text": [
      "3\n"
     ]
    }
   ],
   "source": [
    "a={}\n",
    "a[a] = 2\n",
    "a.a =3\n",
    "a[a] = 2\n",
    "print(a.a)\n"
   ]
  },
  {
   "cell_type": "code",
   "execution_count": 110,
   "id": "a0139ec8",
   "metadata": {},
   "outputs": [
    {
     "name": "stdout",
     "output_type": "stream",
     "text": [
      "0.0625\n",
      "false\n"
     ]
    }
   ],
   "source": [
    "--Expressões\n",
    "--Operadores\n",
    "s = 1+2\n",
    "s= s-2\n",
    "s= s/2\n",
    "s = s ^ 4\n",
    "s = s%4\n",
    "k = not true\n",
    "print(s)\n",
    "print(k)"
   ]
  },
  {
   "cell_type": "code",
   "execution_count": 112,
   "id": "c6f3fe9e",
   "metadata": {},
   "outputs": [
    {
     "name": "stdout",
     "output_type": "stream",
     "text": [
      "9\n",
      "5\n"
     ]
    }
   ],
   "source": [
    "--Lógicos\n",
    "print(5 and 9)\n",
    "print(5 or 9)"
   ]
  },
  {
   "cell_type": "code",
   "execution_count": 124,
   "id": "fc93a0c3",
   "metadata": {},
   "outputs": [],
   "source": [
    "min = (5 > 9) and 9 or 5\n",
    "max = (9 > 5) and 9 or 5"
   ]
  },
  {
   "cell_type": "code",
   "execution_count": 125,
   "id": "ad708c67",
   "metadata": {},
   "outputs": [
    {
     "name": "stdout",
     "output_type": "stream",
     "text": [
      "5\n",
      "9\n"
     ]
    }
   ],
   "source": [
    "print(min)\n",
    "print(max)"
   ]
  },
  {
   "cell_type": "code",
   "execution_count": 126,
   "id": "150d4cc7",
   "metadata": {},
   "outputs": [
    {
     "name": "stdout",
     "output_type": "stream",
     "text": [
      "true\n",
      "true\n"
     ]
    }
   ],
   "source": [
    "print(not nil)\n",
    "print(not false)"
   ]
  },
  {
   "cell_type": "code",
   "execution_count": 128,
   "id": "a999ef24",
   "metadata": {},
   "outputs": [
    {
     "name": "stdout",
     "output_type": "stream",
     "text": [
      "abc\n"
     ]
    }
   ],
   "source": [
    "--Concatenação\n",
    "s = \"a\" .. \"b\" .. \"c\"\n",
    "print(s)"
   ]
  },
  {
   "cell_type": "code",
   "execution_count": 132,
   "id": "e3e2aecb",
   "metadata": {},
   "outputs": [
    {
     "name": "stdout",
     "output_type": "stream",
     "text": [
      "0\n",
      "2\n"
     ]
    }
   ],
   "source": [
    "A={}\n",
    "print(#A)\n",
    "A[1]=1\n",
    "A[1000]=1\n",
    "A[2]=1\n",
    "print(#A)"
   ]
  },
  {
   "cell_type": "code",
   "execution_count": 131,
   "id": "f83bb094",
   "metadata": {},
   "outputs": [
    {
     "name": "stdout",
     "output_type": "stream",
     "text": [
      "nil\n"
     ]
    }
   ],
   "source": [
    "print(A[2])"
   ]
  },
  {
   "cell_type": "code",
   "execution_count": 137,
   "id": "8afa70ef",
   "metadata": {},
   "outputs": [
    {
     "name": "stdout",
     "output_type": "stream",
     "text": [
      "3\n"
     ]
    }
   ],
   "source": [
    "B={10,10,10,nil,nil}\n",
    "print(#B)"
   ]
  },
  {
   "cell_type": "code",
   "execution_count": 138,
   "id": "6dec193e",
   "metadata": {},
   "outputs": [
    {
     "name": "stdout",
     "output_type": "stream",
     "text": [
      "6\n"
     ]
    }
   ],
   "source": [
    "B={10,10,10,nil,nil,10}\n",
    "print(#B)"
   ]
  },
  {
   "cell_type": "code",
   "execution_count": 1,
   "id": "6a6847bf",
   "metadata": {},
   "outputs": [
    {
     "name": "stdout",
     "output_type": "stream",
     "text": [
      "hello world.\n"
     ]
    }
   ],
   "source": [
    "--Atribuiçã0\n",
    "a = \"hello \"..\"world.\"\n",
    "print(a)"
   ]
  },
  {
   "cell_type": "code",
   "execution_count": 13,
   "id": "d5a7415f",
   "metadata": {},
   "outputs": [
    {
     "name": "stdout",
     "output_type": "stream",
     "text": [
      "1 1\n"
     ]
    }
   ],
   "source": [
    "--Aribuicao multipla\n",
    "a, b = 1, 1\n",
    "print(a..\" \"..b)"
   ]
  },
  {
   "cell_type": "code",
   "execution_count": 14,
   "id": "5f851778",
   "metadata": {},
   "outputs": [
    {
     "ename": "n/a",
     "evalue": "(ilua):1: attempt to perform arithmetic on global 'c' (a nil value)",
     "output_type": "error",
     "traceback": [
      "(ilua):1: attempt to perform arithmetic on global 'c' (a nil value)",
      "stack traceback:",
      "\t(ilua):1: in main chunk",
      "\t[C]: in function 'xpcall'",
      "\t...e/.local/lib/python3.8/site-packages/ilua/interp.lua:65: in function 'handle_execute'",
      "\t...e/.local/lib/python3.8/site-packages/ilua/interp.lua:162: in main chunk",
      "\t[C]: ?"
     ]
    }
   ],
   "source": [
    "c, d= 2,2*c\n",
    "print(a..\" \"..b)"
   ]
  },
  {
   "cell_type": "code",
   "execution_count": 15,
   "id": "18ce73df",
   "metadata": {},
   "outputs": [
    {
     "name": "stdout",
     "output_type": "stream",
     "text": [
      "2 2\n"
     ]
    }
   ],
   "source": [
    "a, b= 2*a,2*a\n",
    "print(a..\" \"..b)"
   ]
  },
  {
   "cell_type": "code",
   "execution_count": 16,
   "id": "b79836ff",
   "metadata": {},
   "outputs": [
    {
     "name": "stdout",
     "output_type": "stream",
     "text": [
      "4 4\n"
     ]
    }
   ],
   "source": [
    "a, b= 2+b,2*a\n",
    "print(a..\" \"..b)"
   ]
  },
  {
   "cell_type": "code",
   "execution_count": 18,
   "id": "a60a1fc4",
   "metadata": {},
   "outputs": [
    {
     "ename": "n/a",
     "evalue": "(ilua):2: attempt to concatenate global 'h' (a nil value)",
     "output_type": "error",
     "traceback": [
      "(ilua):2: attempt to concatenate global 'h' (a nil value)",
      "stack traceback:",
      "\t(ilua):2: in main chunk",
      "\t[C]: in function 'xpcall'",
      "\t...e/.local/lib/python3.8/site-packages/ilua/interp.lua:65: in function 'handle_execute'",
      "\t...e/.local/lib/python3.8/site-packages/ilua/interp.lua:162: in main chunk",
      "\t[C]: ?"
     ]
    }
   ],
   "source": [
    "a, b, h = 1, 2\n",
    "print(a..\" \"..b..\" \"..h)"
   ]
  },
  {
   "cell_type": "code",
   "execution_count": 19,
   "id": "da2224a5",
   "metadata": {},
   "outputs": [
    {
     "name": "stdout",
     "output_type": "stream",
     "text": [
      "0\t0\tnil\n"
     ]
    }
   ],
   "source": [
    "a , b, m = 0, 0\n",
    "print(a,b,m)"
   ]
  },
  {
   "cell_type": "code",
   "execution_count": 20,
   "id": "5f3558fa",
   "metadata": {},
   "outputs": [
    {
     "name": "stdout",
     "output_type": "stream",
     "text": [
      "0\tnil\tnil\n"
     ]
    }
   ],
   "source": [
    "a , b, m = 0\n",
    "print(a,b,m)"
   ]
  },
  {
   "cell_type": "code",
   "execution_count": 22,
   "id": "66f21b1c",
   "metadata": {},
   "outputs": [
    {
     "name": "stdout",
     "output_type": "stream",
     "text": [
      "3\n",
      "6\n",
      "9\n",
      "12\n",
      "nil\n"
     ]
    }
   ],
   "source": [
    "--Variável Local\n",
    "a = 0\n",
    "\n",
    "while(a < 10) do\n",
    "  a = a + 3\n",
    "  local aux = a\n",
    "  print(aux)\n",
    "end\n",
    "\n",
    "print(aux)\n",
    " "
   ]
  },
  {
   "cell_type": "code",
   "execution_count": null,
   "id": "94503b6b",
   "metadata": {},
   "outputs": [],
   "source": [
    "--local x = x + 1 --erro\n",
    "do\n",
    "    local x = 1--sempre dentro de um bloco do/end\n",
    "    x= x + 1\n",
    "    print(x)\n",
    "end"
   ]
  },
  {
   "cell_type": "code",
   "execution_count": null,
   "id": "3a362ec8",
   "metadata": {},
   "outputs": [],
   "source": [
    "a ,b = 10, 20\n",
    "do\n",
    "    local a\n",
    "    print(a)\n",
    "end\n",
    "print(a, b)"
   ]
  },
  {
   "cell_type": "code",
   "execution_count": 15,
   "id": "161434b8",
   "metadata": {},
   "outputs": [
    {
     "name": "stdout",
     "output_type": "stream",
     "text": [
      "10\n",
      "-5\n"
     ]
    }
   ],
   "source": [
    "--Estrutura de controle\n",
    "A={10, 1, 5, 4, 0}\n",
    "index = 1\n",
    "maior = A[1]\n",
    "\n",
    "while(index <= #A) do    \n",
    "    if maior < A[index] then\n",
    "            maior =  A[index]    \n",
    "    end\n",
    "    index =  index + 1\n",
    "end\n",
    "    \n",
    "print(maior)\n",
    "\n",
    "A={-1, 1, -5, 4, 0}\n",
    "index = 1\n",
    "menor = A[1]\n",
    "\n",
    "while(index <= #A) do    \n",
    "    if menor > A[index] then\n",
    "            menor =  A[index]    \n",
    "    end\n",
    "    index =  index + 1\n",
    "end\n",
    "    \n",
    "print(menor)\n",
    "    "
   ]
  },
  {
   "cell_type": "code",
   "execution_count": 18,
   "id": "8668a420",
   "metadata": {},
   "outputs": [
    {
     "name": "stdout",
     "output_type": "stream",
     "text": [
      "20\n",
      "19\n",
      "18\n",
      "17\n",
      "16\n",
      "15\n",
      "14\n",
      "13\n",
      "12\n",
      "11\n",
      "10\n",
      "9\n",
      "8\n",
      "7\n",
      "6\n",
      "5\n",
      "4\n",
      "3\n",
      "2\n",
      "1\n",
      "0\n"
     ]
    }
   ],
   "source": [
    "a = 20\n",
    "repeat\n",
    "    print(a)\n",
    "    a = a- 1\n",
    "until a < 0 "
   ]
  },
  {
   "cell_type": "code",
   "execution_count": 20,
   "id": "def26664",
   "metadata": {},
   "outputs": [
    {
     "name": "stdout",
     "output_type": "stream",
     "text": [
      "0\n",
      "1\n",
      "2\n",
      "3\n",
      "4\n",
      "5\n",
      "6\n",
      "7\n",
      "8\n",
      "9\n",
      "10\n"
     ]
    }
   ],
   "source": [
    "for i = 0, 10 do\n",
    "    print(i)\n",
    "end"
   ]
  },
  {
   "cell_type": "code",
   "execution_count": 42,
   "id": "4b130643",
   "metadata": {},
   "outputs": [
    {
     "name": "stdout",
     "output_type": "stream",
     "text": [
      "0\n",
      "1\n",
      "2\n",
      "3\n",
      "4\n",
      "5\n",
      "6\n",
      "7\n",
      "8\n",
      "9\n",
      "10\n"
     ]
    }
   ],
   "source": [
    "for i = 0, 10 do\n",
    "    A[i] = i\n",
    "end\n",
    "\n",
    "for i = 0, #A do\n",
    "    print(A[i])\n",
    "end"
   ]
  },
  {
   "cell_type": "code",
   "execution_count": 55,
   "id": "7f8e9c5e",
   "metadata": {},
   "outputs": [
    {
     "name": "stdout",
     "output_type": "stream",
     "text": [
      "2\n",
      "3\n",
      "4\n",
      "5\n",
      "6\n",
      "7\n",
      "8\n",
      "9\n",
      "10\n",
      "11\n",
      "3\n",
      "4\n",
      "5\n",
      "6\n",
      "7\n",
      "8\n",
      "9\n",
      "10\n",
      "11\n",
      "12\n",
      "4\n",
      "5\n",
      "6\n",
      "7\n",
      "8\n",
      "9\n",
      "10\n",
      "11\n",
      "12\n",
      "13\n",
      "5\n",
      "6\n",
      "7\n",
      "8\n",
      "9\n",
      "10\n",
      "11\n",
      "12\n",
      "13\n",
      "14\n",
      "6\n",
      "7\n",
      "8\n",
      "9\n",
      "10\n",
      "11\n",
      "12\n",
      "13\n",
      "14\n",
      "15\n",
      "7\n",
      "8\n",
      "9\n",
      "10\n",
      "11\n",
      "12\n",
      "13\n",
      "14\n",
      "15\n",
      "16\n",
      "8\n",
      "9\n",
      "10\n",
      "11\n",
      "12\n",
      "13\n",
      "14\n",
      "15\n",
      "16\n",
      "17\n",
      "9\n",
      "10\n",
      "11\n",
      "12\n",
      "13\n",
      "14\n",
      "15\n",
      "16\n",
      "17\n",
      "18\n",
      "10\n",
      "11\n",
      "12\n",
      "13\n",
      "14\n",
      "15\n",
      "16\n",
      "17\n",
      "18\n",
      "19\n",
      "11\n",
      "12\n",
      "13\n",
      "14\n",
      "15\n",
      "16\n",
      "17\n",
      "18\n",
      "19\n",
      "20\n"
     ]
    }
   ],
   "source": [
    "A = {}\n",
    "for i = 1, 10 do\n",
    "    A[i] = {}\n",
    "    for j =1, 10 do\n",
    "        A[i][j] = i + j\n",
    "    end    \n",
    "end\n",
    "\n",
    "for i = 1, 10 do    \n",
    "    for j =1, 10 do\n",
    "        print(A[i][j])\n",
    "    end    \n",
    "end\n"
   ]
  },
  {
   "cell_type": "code",
   "execution_count": 65,
   "id": "16cdbacd",
   "metadata": {},
   "outputs": [
    {
     "name": "stdout",
     "output_type": "stream",
     "text": [
      "0\n",
      "1\n",
      "2\n",
      "3\n",
      "4\n",
      "5\n",
      "6\n",
      "7\n",
      "8\n",
      "9\n",
      "10\n"
     ]
    }
   ],
   "source": [
    "function addOne(num)\n",
    "        return num + 1\n",
    "end\n",
    "\n",
    "for i = 0, addOne(9) do\n",
    "    print(i)\n",
    "end"
   ]
  },
  {
   "cell_type": "code",
   "execution_count": 72,
   "id": "64a1a558",
   "metadata": {},
   "outputs": [
    {
     "name": "stdout",
     "output_type": "stream",
     "text": [
      "1\tbola\n",
      "2\tpipa\n",
      "3\tpedra\n",
      "4\trua\n",
      "5\tsol\n"
     ]
    }
   ],
   "source": [
    "A = {\"bola\",\"pipa\",\"pedra\",\"rua\",\"sol\"}\n",
    "\n",
    "for k, v in pairs(A) do\n",
    "    print(k,v)\n",
    "end"
   ]
  },
  {
   "cell_type": "code",
   "execution_count": null,
   "id": "6ecca54d",
   "metadata": {},
   "outputs": [],
   "source": []
  }
 ],
 "metadata": {
  "kernelspec": {
   "display_name": "Lua",
   "language": "lua",
   "name": "lua"
  },
  "language_info": {
   "file_extension": ".lua",
   "mimetype": "text/x-lua",
   "name": "lua",
   "version": "5.1"
  }
 },
 "nbformat": 4,
 "nbformat_minor": 5
}
