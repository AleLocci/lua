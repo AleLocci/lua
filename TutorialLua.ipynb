{
 "cells": [
  {
   "cell_type": "code",
   "execution_count": 2,
   "id": "b5f014b5",
   "metadata": {},
   "outputs": [],
   "source": [
    "--Tutorial Lua 05/10/2022"
   ]
  },
  {
   "cell_type": "code",
   "execution_count": 3,
   "id": "54c334cd",
   "metadata": {},
   "outputs": [
    {
     "name": "stdout",
     "output_type": "stream",
     "text": [
      "Oi mundo!!\n"
     ]
    }
   ],
   "source": [
    "--imprimindo na tela\n",
    "print(\"Oi mundo!!\")"
   ]
  },
  {
   "cell_type": "code",
   "execution_count": 5,
   "id": "99f01f6e",
   "metadata": {},
   "outputs": [],
   "source": [
    "--Trecho: uma sequência de instruções. \n",
    "a=1\n",
    "a=2 b=3\n",
    "a=2; b=2*a\n",
    "a=3 b=3*b"
   ]
  },
  {
   "cell_type": "code",
   "execution_count": 6,
   "id": "87b02b41",
   "metadata": {},
   "outputs": [],
   "source": [
    "--Comentário e bloco de comentário\n",
    "--Isso é um comentário\n",
    "--[[Isso é um grande bloco de coemntaro\n",
    "mesmo\n",
    "]]"
   ]
  },
  {
   "cell_type": "code",
   "execution_count": 12,
   "id": "86900193",
   "metadata": {},
   "outputs": [
    {
     "name": "stdout",
     "output_type": "stream",
     "text": [
      "100\n",
      "10\n",
      "100\n",
      "nil\n"
     ]
    }
   ],
   "source": [
    "--Variáveis globais\n",
    "print(a)\n",
    "a=10--deveria dar nill\n",
    "print(a)\n",
    "a=100\n",
    "print(a)\n",
    "a=nil\n",
    "print(a)"
   ]
  },
  {
   "cell_type": "code",
   "execution_count": 15,
   "id": "4690bf7d",
   "metadata": {},
   "outputs": [],
   "source": [
    "--Tipagem e Valores\n",
    "--[[Lua é uma linguagem tipada dinamicamente,\n",
    "logo os dipos não são definidos. Isso implica \n",
    "que é o vaslor que define o tipo.]]\n",
    "--[[Um valor podem ser atribuidos os seguintes tipos:\n",
    "*nil\n",
    "*boolean\n",
    "*number\n",
    "*string\n",
    "*userdata\n",
    "*function\n",
    "*thread\n",
    "*table]]"
   ]
  },
  {
   "cell_type": "code",
   "execution_count": 29,
   "id": "9539e474",
   "metadata": {},
   "outputs": [
    {
     "name": "stdout",
     "output_type": "stream",
     "text": [
      "nil\n",
      "boolean\n",
      "number\n",
      "string\n",
      "function\n",
      "function\n",
      "function\n",
      "function\n"
     ]
    }
   ],
   "source": [
    "print(type(nil))\n",
    "print(type(true))\n",
    "print(type(10))\n",
    "print(type(\"Oi\"))\n",
    "print(type(print))\n",
    "print(type(k))--k não foi inicializada\n",
    "k=print\n",
    "print(type(k))\n",
    "k(type(k))"
   ]
  },
  {
   "cell_type": "code",
   "execution_count": 30,
   "id": "5979eb32",
   "metadata": {},
   "outputs": [],
   "source": [
    "--nil avaliado mcomo false.\n",
    "--0 e string vazia são entendidas como true."
   ]
  },
  {
   "cell_type": "code",
   "execution_count": 33,
   "id": "776bc345",
   "metadata": {},
   "outputs": [
    {
     "name": "stdout",
     "output_type": "stream",
     "text": [
      "255\n"
     ]
    }
   ],
   "source": [
    "s=0xff--Hexa\n",
    "print(s)"
   ]
  },
  {
   "cell_type": "code",
   "execution_count": null,
   "id": "403c71de",
   "metadata": {},
   "outputs": [],
   "source": []
  },
  {
   "cell_type": "code",
   "execution_count": null,
   "id": "68503622",
   "metadata": {},
   "outputs": [],
   "source": []
  }
 ],
 "metadata": {
  "kernelspec": {
   "display_name": "Lua",
   "language": "lua",
   "name": "lua"
  },
  "language_info": {
   "file_extension": ".lua",
   "mimetype": "text/x-lua",
   "name": "lua",
   "version": "5.3"
  }
 },
 "nbformat": 4,
 "nbformat_minor": 5
}
